{
 "cells": [
  {
   "cell_type": "code",
   "execution_count": 6,
   "id": "c0391e34",
   "metadata": {},
   "outputs": [],
   "source": [
    "import cv2   #调用opencv工具包（opencv读取的格式是BGR）\n",
    "import matplotlib.pyplot as plt   \n",
    "import numpy as np \n",
    "%matplotlib inline  \n",
    " #jupyter特有，实时展示图像\n",
    "img=cv2.imread('cat.jpg')"
   ]
  },
  {
   "cell_type": "code",
   "execution_count": 7,
   "id": "5e1ab3d7",
   "metadata": {},
   "outputs": [
    {
     "data": {
      "text/plain": [
       "array([[[142, 151, 160],\n",
       "        [146, 155, 164],\n",
       "        [151, 160, 170],\n",
       "        ...,\n",
       "        [156, 172, 185],\n",
       "        [155, 171, 184],\n",
       "        [154, 170, 183]],\n",
       "\n",
       "       [[108, 117, 126],\n",
       "        [112, 123, 131],\n",
       "        [118, 127, 137],\n",
       "        ...,\n",
       "        [155, 171, 184],\n",
       "        [154, 170, 183],\n",
       "        [153, 169, 182]],\n",
       "\n",
       "       [[108, 119, 127],\n",
       "        [110, 123, 131],\n",
       "        [118, 128, 138],\n",
       "        ...,\n",
       "        [156, 169, 183],\n",
       "        [155, 168, 182],\n",
       "        [154, 167, 181]],\n",
       "\n",
       "       ...,\n",
       "\n",
       "       [[162, 186, 198],\n",
       "        [157, 181, 193],\n",
       "        [142, 166, 178],\n",
       "        ...,\n",
       "        [181, 204, 206],\n",
       "        [170, 193, 195],\n",
       "        [149, 172, 174]],\n",
       "\n",
       "       [[140, 164, 176],\n",
       "        [147, 171, 183],\n",
       "        [139, 163, 175],\n",
       "        ...,\n",
       "        [169, 187, 188],\n",
       "        [125, 143, 144],\n",
       "        [106, 124, 125]],\n",
       "\n",
       "       [[154, 178, 190],\n",
       "        [154, 178, 190],\n",
       "        [121, 145, 157],\n",
       "        ...,\n",
       "        [183, 198, 200],\n",
       "        [128, 143, 145],\n",
       "        [127, 142, 144]]], dtype=uint8)"
      ]
     },
     "execution_count": 7,
     "metadata": {},
     "output_type": "execute_result"
    }
   ],
   "source": [
    "img"
   ]
  },
  {
   "cell_type": "markdown",
   "id": "2e5b68ca",
   "metadata": {},
   "source": [
    "dtype=uint8表示颜色通道取值为0-255"
   ]
  },
  {
   "cell_type": "code",
   "execution_count": null,
   "id": "a4a623c6",
   "metadata": {},
   "outputs": [],
   "source": []
  }
 ],
 "metadata": {
  "kernelspec": {
   "display_name": "Python 3 (ipykernel)",
   "language": "python",
   "name": "python3"
  },
  "language_info": {
   "codemirror_mode": {
    "name": "ipython",
    "version": 3
   },
   "file_extension": ".py",
   "mimetype": "text/x-python",
   "name": "python",
   "nbconvert_exporter": "python",
   "pygments_lexer": "ipython3",
   "version": "3.9.7"
  }
 },
 "nbformat": 4,
 "nbformat_minor": 5
}
